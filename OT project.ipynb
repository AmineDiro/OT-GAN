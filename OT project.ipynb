{
 "cells": [
  {
   "cell_type": "markdown",
   "metadata": {},
   "source": [
    "[![Open In Colab](https://colab.research.google.com/assets/colab-badge.svg)](https://colab.research.google.com/github/AmineDiro/OT-GAN/blob/main/OT%20project.ipynb#scrollTo=66I2N56tuMq9)"
   ]
  },
  {
   "cell_type": "code",
   "execution_count": 4,
   "metadata": {},
   "outputs": [
    {
     "name": "stdout",
     "output_type": "stream",
     "text": [
      "The autoreload extension is already loaded. To reload it, use:\n",
      "  %reload_ext autoreload\n"
     ]
    }
   ],
   "source": [
    "import matplotlib.pyplot as plt\n",
    "import matplotlib.animation as animation\n",
    "\n",
    "import numpy as np\n",
    "import torch\n",
    "import torchvision\n",
    "from torchvision import datasets, transforms\n",
    "import torch.nn as nn\n",
    "from torch import Tensor\n",
    "import torch.nn.functional as F\n",
    "import torch.optim as optim\n",
    "import torchvision.utils as vutils\n",
    "from torch.utils.data import DataLoader\n",
    "from torch.autograd import Variable\n",
    "from tqdm.auto import tqdm\n",
    "\n",
    "#import ot\n",
    "%load_ext autoreload\n",
    "%autoreload 2\n",
    "%reload_ext autoreload\n"
   ]
  },
  {
   "cell_type": "code",
   "execution_count": 16,
   "metadata": {},
   "outputs": [],
   "source": [
    "# Parametres\n",
    "\n",
    "batch_size=5 # selon les auteurs mais on va pas utiliser ça\n",
    "ginput_dim = 100\n",
    "val_batch_size=128\n",
    "n_epochs=2\n",
    "lr=3e-4\n",
    "beta1= 0.5\n",
    "beta2=0.999\n",
    "epsilon=1\n",
    "n_gen=3 #nupmber of generator updates / discriminator update\n"
   ]
  },
  {
   "cell_type": "code",
   "execution_count": 6,
   "metadata": {},
   "outputs": [
    {
     "name": "stdout",
     "output_type": "stream",
     "text": [
      "CUDA Available:  True\n"
     ]
    }
   ],
   "source": [
    "use_cuda =True\n",
    "# Init device \n",
    "print(\"CUDA Available: \",torch.cuda.is_available())\n",
    "device = torch.device(\"cuda\" if (use_cuda and torch.cuda.is_available()) else \"cpu\")"
   ]
  },
  {
   "cell_type": "code",
   "execution_count": 8,
   "metadata": {},
   "outputs": [],
   "source": [
    "\n",
    "transform = transforms.Compose([transforms.Grayscale(3) ,transforms.Resize(size=(32, 32)), transforms.ToTensor()])\n",
    "\n",
    "trainset = torchvision.datasets.MNIST(root='./data_mnist', train=True,\n",
    "                                        download=False, transform=transform)\n",
    "trainloader = torch.utils.data.DataLoader(trainset, batch_size=batch_size,\n",
    "                                          shuffle=True, num_workers=2)"
   ]
  },
  {
   "cell_type": "code",
   "execution_count": 11,
   "metadata": {},
   "outputs": [
    {
     "data": {
      "image/png": "[encoded data removed]",
      "text/plain": [
       "<Figure size 576x576 with 1 Axes>"
      ]
     },
     "metadata": {
      "needs_background": "light"
     },
     "output_type": "display_data"
    }
   ],
   "source": [
    "# Plot the training images.\n",
    "sample_batch = next(iter(trainloader))\n",
    "plt.figure(figsize=(8, 8))\n",
    "plt.axis(\"off\")\n",
    "plt.title(\"Training Images\")\n",
    "plt.imshow(np.transpose(vutils.make_grid(\n",
    "    sample_batch[0].to(device)[ : 64], padding=2, normalize=True).cpu(), (1, 2, 0)))\n",
    "\n",
    "plt.show()"
   ]
  },
  {
   "cell_type": "markdown",
   "metadata": {},
   "source": [
    "## GAN Archiecture"
   ]
  },
  {
   "cell_type": "code",
   "execution_count": 12,
   "metadata": {},
   "outputs": [],
   "source": [
    "from Generator import Generator\n",
    "from Discriminator import Discriminator \n",
    "from utils import *"
   ]
  },
  {
   "cell_type": "code",
   "execution_count": 13,
   "metadata": {},
   "outputs": [
    {
     "name": "stdout",
     "output_type": "stream",
     "text": [
      "Generator(\n",
      "  (linear): Linear(in_features=100, out_features=32768, bias=True)\n",
      "  (conv1): Conv2d(1024, 1024, kernel_size=(5, 5), stride=(1, 1), padding=(2, 2))\n",
      "  (conv2): Conv2d(512, 512, kernel_size=(5, 5), stride=(1, 1), padding=(2, 2))\n",
      "  (conv3): Conv2d(256, 256, kernel_size=(5, 5), stride=(1, 1), padding=(2, 2))\n",
      "  (last_conv): Conv2d(128, 3, kernel_size=(5, 5), stride=(1, 1), padding=(2, 2))\n",
      ")\n"
     ]
    }
   ],
   "source": [
    "gmodel = Generator().to(device)\n",
    "print(gmodel)"
   ]
  },
  {
   "cell_type": "code",
   "execution_count": 14,
   "metadata": {},
   "outputs": [
    {
     "name": "stdout",
     "output_type": "stream",
     "text": [
      "Discriminator(\n",
      "  (relu): ReLU()\n",
      "  (conv1): Conv2d(3, 256, kernel_size=(5, 5), stride=(1, 1), padding=(2, 2))\n",
      "  (conv2): Conv2d(256, 512, kernel_size=(5, 5), stride=(2, 2), padding=(2, 2))\n",
      "  (conv3): Conv2d(512, 1024, kernel_size=(5, 5), stride=(2, 2), padding=(2, 2))\n",
      "  (conv4): Conv2d(1024, 2048, kernel_size=(5, 5), stride=(2, 2), padding=(2, 2))\n",
      ")\n"
     ]
    }
   ],
   "source": [
    "# Create the discriminator.\n",
    "dmodel = Discriminator().to(device)\n",
    "print(dmodel)"
   ]
  },
  {
   "cell_type": "markdown",
   "metadata": {},
   "source": [
    "## Testing loss"
   ]
  },
  {
   "cell_type": "code",
   "execution_count": 17,
   "metadata": {},
   "outputs": [],
   "source": [
    "noise = ((torch.rand([batch_size, ginput_dim])*-2)+1).to(device)\n",
    "prime_noise = ((torch.rand([batch_size, ginput_dim])*-2)+1).to(device)\n",
    "Y = dmodel(gmodel(noise))\n",
    "Yprime = dmodel(gmodel(prime_noise))"
   ]
  },
  {
   "cell_type": "code",
   "execution_count": 19,
   "metadata": {},
   "outputs": [],
   "source": [
    "#real data in X\n",
    "sample1 , _ = next(iter(trainloader))\n",
    "sample2 , _ = next(iter(trainloader))\n",
    "\n",
    "X = dmodel(sample1.to(device))\n",
    "Xprime = dmodel(sample2.to(device))"
   ]
  },
  {
   "cell_type": "code",
   "execution_count": 21,
   "metadata": {},
   "outputs": [
    {
     "name": "stdout",
     "output_type": "stream",
     "text": [
      "tensor(0.6038, device='cuda:0', grad_fn=<SumBackward1>)\n",
      "tensor(0.5920, device='cuda:0', grad_fn=<SumBackward1>)\n",
      "tensor(0.6000, device='cuda:0', grad_fn=<SumBackward1>)\n",
      "tensor(0.5849, device='cuda:0', grad_fn=<SumBackward1>)\n",
      "tensor(0.7178, device='cuda:0', grad_fn=<SumBackward1>)\n",
      "tensor(0.6794, device='cuda:0', grad_fn=<SumBackward1>)\n"
     ]
    }
   ],
   "source": [
    "loss, loss_generator, loss_critic =loss_cos_dist(X, Xprime, Y, Yprime)"
   ]
  },
  {
   "cell_type": "markdown",
   "metadata": {},
   "source": [
    "##  Training"
   ]
  },
  {
   "cell_type": "code",
   "execution_count": null,
   "metadata": {},
   "outputs": [],
   "source": [
    "real_label = 1\n",
    "fake_label = 0\n",
    "\n",
    "# Store generated images \n",
    "img_list = []\n",
    "\n",
    "# Store losses  training.\n",
    "G_losses = []\n",
    "D_losses = []\n",
    "\n",
    "fiXed_noise = ((torch.rand([batch_size, ginput_dim])*-2)+1).to(device)\n",
    "\n",
    "for epoch in range(n_epochs):\n",
    "    # small loop \n",
    "    for i, data in enumerate(trainloader):\n",
    "        if i >10 :\n",
    "            break\n",
    "        real_data = data[0].to(device)\n",
    "        # Get batch size. Can be different from params['nbsize'] for last batch in epoch.\n",
    "        b_size = real_data.size(0)\n",
    "        dmodel.zero_grad()      \n",
    "        \n",
    "        # Create labels for the real data\n",
    "        label = torch.full((b_size, ), real_label, device=device)\n",
    "        output = dmodel(real_data).view(-1)\n",
    "        print(output.size())\n",
    "        print(label.size())\n",
    "        dloss_real = criterion(output, label)\n",
    "        \n",
    "        # Calculate gradients for backpropagation.\n",
    "        dloss_real.backward()\n",
    "        D_X = output.mean().item()\n",
    "        \n",
    "        # Sample random data from a unit normal distribution.\n",
    "        noise = (torch.rand([batch_size, ginput_dim], requires_grad = True)*-2)+1\n",
    "        noise = noise.to(device)\n",
    "        # Generate fake data (images).\n",
    "        fake_data = gmodel(noise)\n",
    "        # Create labels for fake data. (label=0)\n",
    "        label.fill_(fake_label)\n",
    "        \n",
    "        # Calculate the output of the discriminator of the fake data.\n",
    "        # As no gradients w.r.t. the generator parameters are to be\n",
    "        # calculated, detach() is used. Hence, onlY gradients w.r.t. the\n",
    "        # discriminator parameters will be calculated.\n",
    "        # This is done because the loss functions for the discriminator\n",
    "        # and the generator are slightlY different.\n",
    "        output = dmodel(fake_data.detach()).view(-1)\n",
    "        dloss_fake = criterion(output, label)\n",
    "        # Calculate gradients for backpropagation.\n",
    "        dloss_fake.backward()\n",
    "        # Get output means\n",
    "        D_G_z1 = output.mean().item()\n",
    "\n",
    "        # Net discriminator loss.\n",
    "        errD = dloss_real + dloss_fake\n",
    "        # Update discriminator parameters.\n",
    "        optimizerD.step()\n",
    "        \n",
    "        # Zero grad generator\n",
    "        gmodel.zero_grad()\n",
    "        # We want the fake data to be classified as real. Hence\n",
    "        # real_label are used. (label=1)\n",
    "        label.fill_(real_label)\n",
    "        # No detach() is used here as we want to calculate the gradients w.r.t.\n",
    "        # the generator this time.\n",
    "        output = dmodel(fake_data).view(-1)\n",
    "        errG = criterion(output, label)\n",
    "        # Gradients for backpropagation are calculated.\n",
    "        # Gradients w.r.t. both the generator and the discriminator\n",
    "        # parameters are calculated, however, the generator's optimizer\n",
    "        # will onlY update the parameters of the generator. The discriminator\n",
    "        # gradients will be set to zero in the neXt iteration bY dmodel.zero_grad()\n",
    "        errG.backward()\n",
    "\n",
    "        D_G_z2 = output.mean().item()\n",
    "        # Update generator parameters.\n",
    "        optimizerG.step()\n",
    "\n",
    "        # Check progress of training.\n",
    "        if i%50 == 0:\n",
    "            print(torch.cuda.is_available())\n",
    "            print('[%d/%d][%d/%d]\\tLoss_D: %.4f\\tLoss_G: %.4f\\tD(X): %.4f\\tD(G(z)): %.4f / %.4f'\n",
    "                  % (epoch, params['nepochs'], i, len(dataloader),\n",
    "                     errD.item(), errG.item(), D_X, D_G_z1, D_G_z2))\n",
    "\n",
    "        # Save the losses for plotting.\n",
    "        G_losses.append(errG.item())\n",
    "        D_losses.append(errD.item())\n",
    "\n",
    "        # Check how the generator is doing bY saving G's output on a fiXed noise.\n",
    "        #if (iters % 100 == 0) or ((epoch == n_epochs- 1) and (i == len(dataloader)-1)):\n",
    "        #    with torch.no_grad():\n",
    "        #        fake_data = gmodel(fiXed_noise).detach().cpu()\n",
    "        #    # Append to image list\n",
    "        #    img_list.append(vutils.make_grid(fake_data, padding=2, normalize=True))\n",
    "        #iters += 1\n",
    "\n",
    "    # Save the model.\n",
    "    #if epoch % params['save_epoch'] == 0:\n",
    "    #    torch.save({\n",
    "    #        'generator' : gmodel.state_dict(),\n",
    "    #        'discriminator' : dmodel.state_dict(),\n",
    "    #        'optimizerG' : optimizerG.state_dict(),\n",
    "    #        'optimizerD' : optimizerD.state_dict(),\n",
    "    #        'params' : params\n",
    "    #        }, 'model/model_epoch_{}.pth'.format(epoch))"
   ]
  },
  {
   "cell_type": "code",
   "execution_count": null,
   "metadata": {},
   "outputs": [],
   "source": [
    "K×K matriXM of soft matchings between these i, j elements"
   ]
  }
 ],
 "metadata": {
  "kernelspec": {
   "display_name": "pytorch",
   "language": "python",
   "name": "pytorch"
  },
  "language_info": {
   "codemirror_mode": {
    "name": "ipython",
    "version": 3
   },
   "file_extension": ".py",
   "mimetype": "text/x-python",
   "name": "python",
   "nbconvert_exporter": "python",
   "pygments_lexer": "ipython3",
   "version": "3.9.2"
  }
 },
 "nbformat": 4,
 "nbformat_minor": 4
}
