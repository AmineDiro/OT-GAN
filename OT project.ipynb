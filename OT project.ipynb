{
 "cells": [
  {
   "cell_type": "markdown",
   "metadata": {},
   "source": [
    "[![Open In Colab](https://colab.research.google.com/assets/colab-badge.svg)](https://colab.research.google.com/github/AmineDiro/OT-GAN/blob/main/OT%20project.ipynb#scrollTo=66I2N56tuMq9)"
   ]
  },
  {
   "cell_type": "code",
   "execution_count": 11,
   "metadata": {},
   "outputs": [
    {
     "name": "stdout",
     "output_type": "stream",
     "text": [
      "The autoreload extension is already loaded. To reload it, use:\n",
      "  %reload_ext autoreload\n"
     ]
    }
   ],
   "source": [
    "import os\n",
    "import matplotlib.pyplot as plt\n",
    "import matplotlib.animation as animation\n",
    "\n",
    "import numpy as np\n",
    "import torch\n",
    "import torchvision\n",
    "from torchvision import datasets, transforms\n",
    "from torch.utils.data import SubsetRandomSampler,Subset\n",
    "from torchvision.utils import save_image\n",
    "import torch.nn as nn\n",
    "from torch import Tensor\n",
    "import torch.nn.functional as F\n",
    "import torch.optim as optim\n",
    "\n",
    "import torchvision.utils as vutils\n",
    "from torch.utils.data import DataLoader\n",
    "from torch.autograd import Variable\n",
    "from tqdm.auto import tqdm\n",
    "import ot\n",
    "#import ot\n",
    "%load_ext autoreload\n",
    "%autoreload 2\n",
    "%reload_ext autoreload\n"
   ]
  },
  {
   "cell_type": "code",
   "execution_count": 4,
   "metadata": {},
   "outputs": [],
   "source": [
    "from Generator import Generator\n",
    "from Discriminator import Discriminator \n",
    "from utils import *"
   ]
  },
  {
   "cell_type": "code",
   "execution_count": 13,
   "metadata": {},
   "outputs": [],
   "source": [
    "torch.cuda.empty_cache()"
   ]
  },
  {
   "cell_type": "code",
   "execution_count": 5,
   "metadata": {},
   "outputs": [],
   "source": [
    "# Parametres\n",
    "\n",
    "batch_size=64 # selon les auteurs mais on va pas utiliser ça\n",
    "ginput_dim = 100\n",
    "\n",
    "#val_batch_size=128\n",
    "n_epochs=20\n",
    "lr=3e-4\n",
    "beta1= 0.5\n",
    "beta2=0.999\n",
    "epsilon=1\n",
    "n_gen=3 #nupmber of generator updates / discriminator update\n",
    "\n",
    "output_path_imgs =\"./generated_image\"\n",
    "save_epoch = 2\n",
    "sample_interval = 2"
   ]
  },
  {
   "cell_type": "code",
   "execution_count": 6,
   "metadata": {},
   "outputs": [
    {
     "name": "stdout",
     "output_type": "stream",
     "text": [
      "CUDA Available:  True\n"
     ]
    }
   ],
   "source": [
    "use_cuda =True\n",
    "# Init device \n",
    "print(\"CUDA Available: \",torch.cuda.is_available())\n",
    "device = torch.device(\"cuda\" if (use_cuda and torch.cuda.is_available()) else \"cpu\")"
   ]
  },
  {
   "cell_type": "code",
   "execution_count": 7,
   "metadata": {},
   "outputs": [],
   "source": [
    "\n",
    "transform = transforms.Compose([transforms.Grayscale(3) ,transforms.Resize(size=(32, 32)), transforms.ToTensor()])\n",
    "\n",
    "trainset = torchvision.datasets.MNIST(root='./data_mnist', train=True,\n",
    "                                        download=False, transform=transform)\n",
    "#trainloader = torch.utils.data.DataLoader(trainset, batch_size=batch_size,\n",
    "#                                          shuffle=True, num_workers=4)\n",
    "\n",
    "indices = torch.randperm(len(trainset))[:2000]\n",
    "subset_train_dataset = Subset(trainset, indices)\n",
    "trainloader = torch.utils.data.DataLoader(subset_train_dataset, batch_size=batch_size,\n",
    "                                          shuffle=True, num_workers=0)"
   ]
  },
  {
   "cell_type": "code",
   "execution_count": 8,
   "metadata": {},
   "outputs": [],
   "source": [
    "#Create Generator\n",
    "gmodel = Generator().to(device)\n",
    "# Create the discriminator.\n",
    "dmodel = Discriminator().to(device)"
   ]
  },
  {
   "cell_type": "code",
   "execution_count": 12,
   "metadata": {
    "scrolled": true
   },
   "outputs": [
    {
     "name": "stdout",
     "output_type": "stream",
     "text": [
      "[Epoch 0/20] [Batch 1/16] [G loss: 0.34411540627479553] [D loss: 3.9434518814086914]\n",
      "[Epoch 0/20] [Batch 2/16] [G loss: 0.34515851736068726] [D loss: 3.9460136890411377]\n",
      "[Epoch 0/20] [Batch 3/16] [G loss: 0.34672659635543823] [D loss: 3.9481465816497803]\n",
      "[Epoch 0/20] [Batch 4/16] [G loss: 3.556034803390503] [D loss: 3.931727647781372]\n",
      "[Epoch 0/20] [Batch 5/16] [G loss: 3.569432258605957] [D loss: 3.9221582412719727]\n",
      "[Epoch 0/20] [Batch 6/16] [G loss: 3.592372179031372] [D loss: 3.9235968589782715]\n",
      "[Epoch 0/20] [Batch 7/16] [G loss: 2.326150417327881] [D loss: 3.9096624851226807]\n",
      "[Epoch 0/20] [Batch 8/16] [G loss: 2.268232583999634] [D loss: 3.9220941066741943]\n",
      "[Epoch 0/20] [Batch 9/16] [G loss: 2.3042876720428467] [D loss: 3.9130570888519287]\n",
      "[Epoch 0/20] [Batch 10/16] [G loss: 0.1510138213634491] [D loss: 3.9504261016845703]\n",
      "[Epoch 0/20] [Batch 11/16] [G loss: 0.15158462524414062] [D loss: 3.9491140842437744]\n",
      "[Epoch 0/20] [Batch 12/16] [G loss: 0.1451966017484665] [D loss: 3.9571194648742676]\n",
      "[Epoch 0/20] [Batch 13/16] [G loss: 0.09041005373001099] [D loss: 3.95464825630188]\n",
      "[Epoch 0/20] [Batch 14/16] [G loss: 0.0874028205871582] [D loss: 3.9543070793151855]\n",
      "[Epoch 0/20] [Batch 15/16] [G loss: 0.09301801025867462] [D loss: 3.9509878158569336]\n",
      "[Epoch 0/20] [Batch 16/16] [G loss: 0.11538448929786682] [D loss: 3.963156223297119]\n",
      "[Epoch 1/20] [Batch 17/16] [G loss: 0.11500152945518494] [D loss: 3.9605607986450195]\n",
      "[Epoch 1/20] [Batch 18/16] [G loss: 0.11714905500411987] [D loss: 3.958784580230713]\n",
      "[Epoch 1/20] [Batch 19/16] [G loss: 0.11442853510379791] [D loss: 3.960667610168457]\n",
      "[Epoch 1/20] [Batch 20/16] [G loss: 0.23193156719207764] [D loss: 3.9689993858337402]\n",
      "[Epoch 1/20] [Batch 21/16] [G loss: 0.23095883429050446] [D loss: 3.965761184692383]\n",
      "[Epoch 1/20] [Batch 22/16] [G loss: 0.2374437153339386] [D loss: 3.9704203605651855]\n",
      "[Epoch 1/20] [Batch 23/16] [G loss: 1.1707322597503662] [D loss: 3.953307628631592]\n",
      "[Epoch 1/20] [Batch 24/16] [G loss: 1.177671194076538] [D loss: 3.9555840492248535]\n",
      "[Epoch 1/20] [Batch 25/16] [G loss: 1.2023104429244995] [D loss: 3.9536349773406982]\n",
      "[Epoch 1/20] [Batch 26/16] [G loss: 0.1327219009399414] [D loss: 3.9494028091430664]\n",
      "[Epoch 1/20] [Batch 27/16] [G loss: 0.13431409001350403] [D loss: 3.950101852416992]\n",
      "[Epoch 1/20] [Batch 28/16] [G loss: 0.14582914113998413] [D loss: 3.9459362030029297]\n",
      "[Epoch 1/20] [Batch 29/16] [G loss: 0.17005331814289093] [D loss: 3.9203944206237793]\n",
      "[Epoch 1/20] [Batch 30/16] [G loss: 0.17924417555332184] [D loss: 3.919466972351074]\n",
      "[Epoch 1/20] [Batch 31/16] [G loss: 0.15650224685668945] [D loss: 3.936075210571289]\n",
      "[Epoch 1/20] [Batch 32/16] [G loss: 0.2920650541782379] [D loss: 3.8847053050994873]\n",
      "[Epoch 2/20] [Batch 33/16] [G loss: 0.2636401653289795] [D loss: 3.9101028442382812]\n",
      "[Epoch 2/20] [Batch 34/16] [G loss: 0.25356632471084595] [D loss: 3.9185214042663574]\n",
      "[Epoch 2/20] [Batch 35/16] [G loss: 0.2941899597644806] [D loss: 3.8831591606140137]\n",
      "[Epoch 2/20] [Batch 36/16] [G loss: 0.3391818702220917] [D loss: 3.9500670433044434]\n",
      "[Epoch 2/20] [Batch 37/16] [G loss: 0.3415057957172394] [D loss: 3.9535396099090576]\n",
      "[Epoch 2/20] [Batch 38/16] [G loss: 0.3458232581615448] [D loss: 3.945551872253418]\n",
      "[Epoch 2/20] [Batch 39/16] [G loss: 0.4410979151725769] [D loss: 3.9578442573547363]\n",
      "[Epoch 2/20] [Batch 40/16] [G loss: 0.4398069977760315] [D loss: 3.960676908493042]\n",
      "[Epoch 2/20] [Batch 41/16] [G loss: 0.4379611909389496] [D loss: 3.965453624725342]\n",
      "[Epoch 2/20] [Batch 42/16] [G loss: 0.4556657671928406] [D loss: 3.970365524291992]\n",
      "[Epoch 2/20] [Batch 43/16] [G loss: 0.4536181390285492] [D loss: 3.9711241722106934]\n",
      "[Epoch 2/20] [Batch 44/16] [G loss: 0.45399850606918335] [D loss: 3.9700889587402344]\n",
      "[Epoch 2/20] [Batch 45/16] [G loss: 0.41280585527420044] [D loss: 3.975141763687134]\n",
      "[Epoch 2/20] [Batch 46/16] [G loss: 0.41296982765197754] [D loss: 3.97257137298584]\n",
      "[Epoch 2/20] [Batch 47/16] [G loss: 0.41234487295150757] [D loss: 3.9756436347961426]\n",
      "[Epoch 2/20] [Batch 48/16] [G loss: 0.3880452513694763] [D loss: 3.9783196449279785]\n",
      "[Epoch 3/20] [Batch 49/16] [G loss: 0.38939031958580017] [D loss: 3.978148937225342]\n",
      "[Epoch 3/20] [Batch 50/16] [G loss: 0.389613538980484] [D loss: 3.9779820442199707]\n",
      "[Epoch 3/20] [Batch 51/16] [G loss: 0.3895142674446106] [D loss: 3.9786136150360107]\n",
      "[Epoch 3/20] [Batch 52/16] [G loss: 0.4065602421760559] [D loss: 3.9814867973327637]\n",
      "[Epoch 3/20] [Batch 53/16] [G loss: 0.41612178087234497] [D loss: 3.9756546020507812]\n",
      "[Epoch 3/20] [Batch 54/16] [G loss: 0.4081600308418274] [D loss: 3.982576847076416]\n",
      "[Epoch 3/20] [Batch 55/16] [G loss: 0.367152601480484] [D loss: 3.983347177505493]\n",
      "[Epoch 3/20] [Batch 56/16] [G loss: 0.3696309030056] [D loss: 3.982252359390259]\n",
      "[Epoch 3/20] [Batch 57/16] [G loss: 0.367036372423172] [D loss: 3.982283115386963]\n",
      "[Epoch 3/20] [Batch 58/16] [G loss: 0.3888913691043854] [D loss: 3.983604669570923]\n",
      "[Epoch 3/20] [Batch 59/16] [G loss: 0.3874743580818176] [D loss: 3.9827094078063965]\n",
      "[Epoch 3/20] [Batch 60/16] [G loss: 0.3882201313972473] [D loss: 3.984713077545166]\n",
      "[Epoch 3/20] [Batch 61/16] [G loss: 0.41498440504074097] [D loss: 3.9850997924804688]\n",
      "[Epoch 3/20] [Batch 62/16] [G loss: 0.40974798798561096] [D loss: 3.9873852729797363]\n",
      "[Epoch 3/20] [Batch 63/16] [G loss: 0.4135102927684784] [D loss: 3.9833405017852783]\n",
      "[Epoch 3/20] [Batch 64/16] [G loss: 0.39711761474609375] [D loss: 3.9884910583496094]\n",
      "[Epoch 4/20] [Batch 65/16] [G loss: 0.3961764872074127] [D loss: 3.987492561340332]\n",
      "[Epoch 4/20] [Batch 66/16] [G loss: 0.3981337547302246] [D loss: 3.9868013858795166]\n",
      "[Epoch 4/20] [Batch 67/16] [G loss: 0.39832693338394165] [D loss: 3.9885332584381104]\n",
      "[Epoch 4/20] [Batch 68/16] [G loss: 0.386463463306427] [D loss: 3.9896762371063232]\n",
      "[Epoch 4/20] [Batch 69/16] [G loss: 0.3895149528980255] [D loss: 3.988663673400879]\n",
      "[Epoch 4/20] [Batch 70/16] [G loss: 0.38610973954200745] [D loss: 3.98732590675354]\n",
      "[Epoch 4/20] [Batch 71/16] [G loss: 0.41776904463768005] [D loss: 3.988001823425293]\n",
      "[Epoch 4/20] [Batch 72/16] [G loss: 0.4173802435398102] [D loss: 3.9898433685302734]\n",
      "[Epoch 4/20] [Batch 73/16] [G loss: 0.41690388321876526] [D loss: 3.989659547805786]\n",
      "[Epoch 4/20] [Batch 74/16] [G loss: 0.39673930406570435] [D loss: 3.990377426147461]\n",
      "[Epoch 4/20] [Batch 75/16] [G loss: 0.3983380198478699] [D loss: 3.990569591522217]\n",
      "[Epoch 4/20] [Batch 76/16] [G loss: 0.3986697196960449] [D loss: 3.990535259246826]\n",
      "[Epoch 4/20] [Batch 77/16] [G loss: 0.38410091400146484] [D loss: 3.9911048412323]\n",
      "[Epoch 4/20] [Batch 78/16] [G loss: 0.38555485010147095] [D loss: 3.9908947944641113]\n"
     ]
    },
    {
     "ename": "RuntimeError",
     "evalue": "DataLoader worker (pid(s) 8956, 17556, 19632) exited unexpectedly",
     "output_type": "error",
     "traceback": [
      "\u001b[1;31m---------------------------------------------------------------------------\u001b[0m",
      "\u001b[1;31mEmpty\u001b[0m                                     Traceback (most recent call last)",
      "\u001b[1;32m~\\miniconda3\\envs\\pytorch\\lib\\site-packages\\torch\\utils\\data\\dataloader.py\u001b[0m in \u001b[0;36m_try_get_data\u001b[1;34m(self, timeout)\u001b[0m\n\u001b[0;32m    985\u001b[0m         \u001b[1;32mtry\u001b[0m\u001b[1;33m:\u001b[0m\u001b[1;33m\u001b[0m\u001b[1;33m\u001b[0m\u001b[0m\n\u001b[1;32m--> 986\u001b[1;33m             \u001b[0mdata\u001b[0m \u001b[1;33m=\u001b[0m \u001b[0mself\u001b[0m\u001b[1;33m.\u001b[0m\u001b[0m_data_queue\u001b[0m\u001b[1;33m.\u001b[0m\u001b[0mget\u001b[0m\u001b[1;33m(\u001b[0m\u001b[0mtimeout\u001b[0m\u001b[1;33m=\u001b[0m\u001b[0mtimeout\u001b[0m\u001b[1;33m)\u001b[0m\u001b[1;33m\u001b[0m\u001b[1;33m\u001b[0m\u001b[0m\n\u001b[0m\u001b[0;32m    987\u001b[0m             \u001b[1;32mreturn\u001b[0m \u001b[1;33m(\u001b[0m\u001b[1;32mTrue\u001b[0m\u001b[1;33m,\u001b[0m \u001b[0mdata\u001b[0m\u001b[1;33m)\u001b[0m\u001b[1;33m\u001b[0m\u001b[1;33m\u001b[0m\u001b[0m\n",
      "\u001b[1;32m~\\miniconda3\\envs\\pytorch\\lib\\multiprocessing\\queues.py\u001b[0m in \u001b[0;36mget\u001b[1;34m(self, block, timeout)\u001b[0m\n\u001b[0;32m    113\u001b[0m                     \u001b[1;32mif\u001b[0m \u001b[1;32mnot\u001b[0m \u001b[0mself\u001b[0m\u001b[1;33m.\u001b[0m\u001b[0m_poll\u001b[0m\u001b[1;33m(\u001b[0m\u001b[0mtimeout\u001b[0m\u001b[1;33m)\u001b[0m\u001b[1;33m:\u001b[0m\u001b[1;33m\u001b[0m\u001b[1;33m\u001b[0m\u001b[0m\n\u001b[1;32m--> 114\u001b[1;33m                         \u001b[1;32mraise\u001b[0m \u001b[0mEmpty\u001b[0m\u001b[1;33m\u001b[0m\u001b[1;33m\u001b[0m\u001b[0m\n\u001b[0m\u001b[0;32m    115\u001b[0m                 \u001b[1;32melif\u001b[0m \u001b[1;32mnot\u001b[0m \u001b[0mself\u001b[0m\u001b[1;33m.\u001b[0m\u001b[0m_poll\u001b[0m\u001b[1;33m(\u001b[0m\u001b[1;33m)\u001b[0m\u001b[1;33m:\u001b[0m\u001b[1;33m\u001b[0m\u001b[1;33m\u001b[0m\u001b[0m\n",
      "\u001b[1;31mEmpty\u001b[0m: ",
      "\nThe above exception was the direct cause of the following exception:\n",
      "\u001b[1;31mRuntimeError\u001b[0m                              Traceback (most recent call last)",
      "\u001b[1;32m<ipython-input-12-aa18ab0a5613>\u001b[0m in \u001b[0;36m<module>\u001b[1;34m\u001b[0m\n\u001b[0;32m     18\u001b[0m \u001b[1;33m\u001b[0m\u001b[0m\n\u001b[0;32m     19\u001b[0m         \u001b[1;31m#real data in X\u001b[0m\u001b[1;33m\u001b[0m\u001b[1;33m\u001b[0m\u001b[1;33m\u001b[0m\u001b[0m\n\u001b[1;32m---> 20\u001b[1;33m         \u001b[0msample1\u001b[0m \u001b[1;33m,\u001b[0m \u001b[0m_\u001b[0m \u001b[1;33m=\u001b[0m \u001b[0mnext\u001b[0m\u001b[1;33m(\u001b[0m\u001b[0miter\u001b[0m\u001b[1;33m(\u001b[0m\u001b[0mtrainloader\u001b[0m\u001b[1;33m)\u001b[0m\u001b[1;33m)\u001b[0m\u001b[1;33m\u001b[0m\u001b[1;33m\u001b[0m\u001b[0m\n\u001b[0m\u001b[0;32m     21\u001b[0m         \u001b[0msample2\u001b[0m \u001b[1;33m,\u001b[0m \u001b[0m_\u001b[0m \u001b[1;33m=\u001b[0m \u001b[0mnext\u001b[0m\u001b[1;33m(\u001b[0m\u001b[0miter\u001b[0m\u001b[1;33m(\u001b[0m\u001b[0mtrainloader\u001b[0m\u001b[1;33m)\u001b[0m\u001b[1;33m)\u001b[0m\u001b[1;33m\u001b[0m\u001b[1;33m\u001b[0m\u001b[0m\n\u001b[0;32m     22\u001b[0m \u001b[1;33m\u001b[0m\u001b[0m\n",
      "\u001b[1;32m~\\miniconda3\\envs\\pytorch\\lib\\site-packages\\torch\\utils\\data\\dataloader.py\u001b[0m in \u001b[0;36m__next__\u001b[1;34m(self)\u001b[0m\n\u001b[0;32m    515\u001b[0m             \u001b[1;32mif\u001b[0m \u001b[0mself\u001b[0m\u001b[1;33m.\u001b[0m\u001b[0m_sampler_iter\u001b[0m \u001b[1;32mis\u001b[0m \u001b[1;32mNone\u001b[0m\u001b[1;33m:\u001b[0m\u001b[1;33m\u001b[0m\u001b[1;33m\u001b[0m\u001b[0m\n\u001b[0;32m    516\u001b[0m                 \u001b[0mself\u001b[0m\u001b[1;33m.\u001b[0m\u001b[0m_reset\u001b[0m\u001b[1;33m(\u001b[0m\u001b[1;33m)\u001b[0m\u001b[1;33m\u001b[0m\u001b[1;33m\u001b[0m\u001b[0m\n\u001b[1;32m--> 517\u001b[1;33m             \u001b[0mdata\u001b[0m \u001b[1;33m=\u001b[0m \u001b[0mself\u001b[0m\u001b[1;33m.\u001b[0m\u001b[0m_next_data\u001b[0m\u001b[1;33m(\u001b[0m\u001b[1;33m)\u001b[0m\u001b[1;33m\u001b[0m\u001b[1;33m\u001b[0m\u001b[0m\n\u001b[0m\u001b[0;32m    518\u001b[0m             \u001b[0mself\u001b[0m\u001b[1;33m.\u001b[0m\u001b[0m_num_yielded\u001b[0m \u001b[1;33m+=\u001b[0m \u001b[1;36m1\u001b[0m\u001b[1;33m\u001b[0m\u001b[1;33m\u001b[0m\u001b[0m\n\u001b[0;32m    519\u001b[0m             \u001b[1;32mif\u001b[0m \u001b[0mself\u001b[0m\u001b[1;33m.\u001b[0m\u001b[0m_dataset_kind\u001b[0m \u001b[1;33m==\u001b[0m \u001b[0m_DatasetKind\u001b[0m\u001b[1;33m.\u001b[0m\u001b[0mIterable\u001b[0m \u001b[1;32mand\u001b[0m\u001b[0;31m \u001b[0m\u001b[0;31m\\\u001b[0m\u001b[1;33m\u001b[0m\u001b[1;33m\u001b[0m\u001b[0m\n",
      "\u001b[1;32m~\\miniconda3\\envs\\pytorch\\lib\\site-packages\\torch\\utils\\data\\dataloader.py\u001b[0m in \u001b[0;36m_next_data\u001b[1;34m(self)\u001b[0m\n\u001b[0;32m   1180\u001b[0m \u001b[1;33m\u001b[0m\u001b[0m\n\u001b[0;32m   1181\u001b[0m             \u001b[1;32massert\u001b[0m \u001b[1;32mnot\u001b[0m \u001b[0mself\u001b[0m\u001b[1;33m.\u001b[0m\u001b[0m_shutdown\u001b[0m \u001b[1;32mand\u001b[0m \u001b[0mself\u001b[0m\u001b[1;33m.\u001b[0m\u001b[0m_tasks_outstanding\u001b[0m \u001b[1;33m>\u001b[0m \u001b[1;36m0\u001b[0m\u001b[1;33m\u001b[0m\u001b[1;33m\u001b[0m\u001b[0m\n\u001b[1;32m-> 1182\u001b[1;33m             \u001b[0midx\u001b[0m\u001b[1;33m,\u001b[0m \u001b[0mdata\u001b[0m \u001b[1;33m=\u001b[0m \u001b[0mself\u001b[0m\u001b[1;33m.\u001b[0m\u001b[0m_get_data\u001b[0m\u001b[1;33m(\u001b[0m\u001b[1;33m)\u001b[0m\u001b[1;33m\u001b[0m\u001b[1;33m\u001b[0m\u001b[0m\n\u001b[0m\u001b[0;32m   1183\u001b[0m             \u001b[0mself\u001b[0m\u001b[1;33m.\u001b[0m\u001b[0m_tasks_outstanding\u001b[0m \u001b[1;33m-=\u001b[0m \u001b[1;36m1\u001b[0m\u001b[1;33m\u001b[0m\u001b[1;33m\u001b[0m\u001b[0m\n\u001b[0;32m   1184\u001b[0m             \u001b[1;32mif\u001b[0m \u001b[0mself\u001b[0m\u001b[1;33m.\u001b[0m\u001b[0m_dataset_kind\u001b[0m \u001b[1;33m==\u001b[0m \u001b[0m_DatasetKind\u001b[0m\u001b[1;33m.\u001b[0m\u001b[0mIterable\u001b[0m\u001b[1;33m:\u001b[0m\u001b[1;33m\u001b[0m\u001b[1;33m\u001b[0m\u001b[0m\n",
      "\u001b[1;32m~\\miniconda3\\envs\\pytorch\\lib\\site-packages\\torch\\utils\\data\\dataloader.py\u001b[0m in \u001b[0;36m_get_data\u001b[1;34m(self)\u001b[0m\n\u001b[0;32m   1146\u001b[0m         \u001b[1;32melse\u001b[0m\u001b[1;33m:\u001b[0m\u001b[1;33m\u001b[0m\u001b[1;33m\u001b[0m\u001b[0m\n\u001b[0;32m   1147\u001b[0m             \u001b[1;32mwhile\u001b[0m \u001b[1;32mTrue\u001b[0m\u001b[1;33m:\u001b[0m\u001b[1;33m\u001b[0m\u001b[1;33m\u001b[0m\u001b[0m\n\u001b[1;32m-> 1148\u001b[1;33m                 \u001b[0msuccess\u001b[0m\u001b[1;33m,\u001b[0m \u001b[0mdata\u001b[0m \u001b[1;33m=\u001b[0m \u001b[0mself\u001b[0m\u001b[1;33m.\u001b[0m\u001b[0m_try_get_data\u001b[0m\u001b[1;33m(\u001b[0m\u001b[1;33m)\u001b[0m\u001b[1;33m\u001b[0m\u001b[1;33m\u001b[0m\u001b[0m\n\u001b[0m\u001b[0;32m   1149\u001b[0m                 \u001b[1;32mif\u001b[0m \u001b[0msuccess\u001b[0m\u001b[1;33m:\u001b[0m\u001b[1;33m\u001b[0m\u001b[1;33m\u001b[0m\u001b[0m\n\u001b[0;32m   1150\u001b[0m                     \u001b[1;32mreturn\u001b[0m \u001b[0mdata\u001b[0m\u001b[1;33m\u001b[0m\u001b[1;33m\u001b[0m\u001b[0m\n",
      "\u001b[1;32m~\\miniconda3\\envs\\pytorch\\lib\\site-packages\\torch\\utils\\data\\dataloader.py\u001b[0m in \u001b[0;36m_try_get_data\u001b[1;34m(self, timeout)\u001b[0m\n\u001b[0;32m    997\u001b[0m             \u001b[1;32mif\u001b[0m \u001b[0mlen\u001b[0m\u001b[1;33m(\u001b[0m\u001b[0mfailed_workers\u001b[0m\u001b[1;33m)\u001b[0m \u001b[1;33m>\u001b[0m \u001b[1;36m0\u001b[0m\u001b[1;33m:\u001b[0m\u001b[1;33m\u001b[0m\u001b[1;33m\u001b[0m\u001b[0m\n\u001b[0;32m    998\u001b[0m                 \u001b[0mpids_str\u001b[0m \u001b[1;33m=\u001b[0m \u001b[1;34m', '\u001b[0m\u001b[1;33m.\u001b[0m\u001b[0mjoin\u001b[0m\u001b[1;33m(\u001b[0m\u001b[0mstr\u001b[0m\u001b[1;33m(\u001b[0m\u001b[0mw\u001b[0m\u001b[1;33m.\u001b[0m\u001b[0mpid\u001b[0m\u001b[1;33m)\u001b[0m \u001b[1;32mfor\u001b[0m \u001b[0mw\u001b[0m \u001b[1;32min\u001b[0m \u001b[0mfailed_workers\u001b[0m\u001b[1;33m)\u001b[0m\u001b[1;33m\u001b[0m\u001b[1;33m\u001b[0m\u001b[0m\n\u001b[1;32m--> 999\u001b[1;33m                 \u001b[1;32mraise\u001b[0m \u001b[0mRuntimeError\u001b[0m\u001b[1;33m(\u001b[0m\u001b[1;34m'DataLoader worker (pid(s) {}) exited unexpectedly'\u001b[0m\u001b[1;33m.\u001b[0m\u001b[0mformat\u001b[0m\u001b[1;33m(\u001b[0m\u001b[0mpids_str\u001b[0m\u001b[1;33m)\u001b[0m\u001b[1;33m)\u001b[0m \u001b[1;32mfrom\u001b[0m \u001b[0me\u001b[0m\u001b[1;33m\u001b[0m\u001b[1;33m\u001b[0m\u001b[0m\n\u001b[0m\u001b[0;32m   1000\u001b[0m             \u001b[1;32mif\u001b[0m \u001b[0misinstance\u001b[0m\u001b[1;33m(\u001b[0m\u001b[0me\u001b[0m\u001b[1;33m,\u001b[0m \u001b[0mqueue\u001b[0m\u001b[1;33m.\u001b[0m\u001b[0mEmpty\u001b[0m\u001b[1;33m)\u001b[0m\u001b[1;33m:\u001b[0m\u001b[1;33m\u001b[0m\u001b[1;33m\u001b[0m\u001b[0m\n\u001b[0;32m   1001\u001b[0m                 \u001b[1;32mreturn\u001b[0m \u001b[1;33m(\u001b[0m\u001b[1;32mFalse\u001b[0m\u001b[1;33m,\u001b[0m \u001b[1;32mNone\u001b[0m\u001b[1;33m)\u001b[0m\u001b[1;33m\u001b[0m\u001b[1;33m\u001b[0m\u001b[0m\n",
      "\u001b[1;31mRuntimeError\u001b[0m: DataLoader worker (pid(s) 8956, 17556, 19632) exited unexpectedly"
     ]
    }
   ],
   "source": [
    "optimizer_D = optim.Adam(dmodel.parameters(), lr=lr, betas=[beta1,beta2])\n",
    "optimizer_G = optim.Adam(gmodel.parameters(), lr=lr,betas=[beta1,beta2])\n",
    "\n",
    "mone = -torch.tensor(1, dtype=torch.float).to(device)\n",
    "G_losses=[]\n",
    "D_losses=[]\n",
    "\n",
    "for epoch in range(n_epochs):\n",
    "    b_done =0\n",
    "    for t in range(len(trainloader)//2):    \n",
    "        optimizer_D.zero_grad()\n",
    "        optimizer_G.zero_grad()\n",
    "        noise = ((torch.rand([batch_size, ginput_dim])*-2)+1).to(device)\n",
    "        prime_noise = ((torch.rand([batch_size, ginput_dim])*-2)+1).to(device)\n",
    "        gen_img = Variable(gmodel(noise),requires_grad=False)\n",
    "        gen_img_prime = Variable(gmodel(prime_noise),requires_grad=False)\n",
    "        Y , Yprime = dmodel(gen_img), dmodel(gen_img_prime)\n",
    "\n",
    "        #real data in X\n",
    "        sample1 , _ = next(iter(trainloader))\n",
    "        sample2 , _ = next(iter(trainloader))\n",
    "\n",
    "        X = dmodel(sample1.to(device))\n",
    "        Xprime = dmodel(sample2.to(device))\n",
    "\n",
    "        loss, loss_generator, loss_critic = loss_func(X, Xprime, Y, Yprime)\n",
    "        G_losses.append(loss_generator)\n",
    "        D_losses.append(loss_critic)\n",
    "\n",
    "        if (t+1)%n_gen == 0 :\n",
    "            #loss = -loss\n",
    "            loss.backward(mone)\n",
    "            optimizer_D.step()\n",
    "        else :\n",
    "            optimizer_G.zero_grad()\n",
    "            loss.backward()\n",
    "            optimizer_G.step()\n",
    "        b_done +=1\n",
    "        print(\"[Epoch {}/{}] [Batch {}/{}] [G loss: {}] [D loss: {}]\".format(epoch, \n",
    "                                                                n_epochs, \n",
    "                                                                b_done , \n",
    "                                                                len(trainloader)//2, \n",
    "                                                                loss_generator.item(),\n",
    "                                                                loss_critic.item()))\n",
    "    #if epoch%sample_interval==0:\n",
    "        save_image(gen_img.data[:64], os.path.join(output_path_imgs, \"epoch_{}.png\".format(epoch)), \n",
    "                       nrow=8, normalize=True)\n",
    "    \n",
    "    if epoch % save_epoch == 0:\n",
    "        torch.save({\n",
    "            'generator' : gmodel.state_dict(),\n",
    "            'critic' : dmodel.state_dict(),\n",
    "            'optimizer_G' : optimizer_G.state_dict(),\n",
    "            'optimizerD' : optimizer_D.state_dict(),\n",
    "            }, 'model/model_epoch_{}.pth'.format(epoch))"
   ]
  },
  {
   "cell_type": "markdown",
   "metadata": {},
   "source": [
    "--- "
   ]
  },
  {
   "cell_type": "code",
   "execution_count": 64,
   "metadata": {},
   "outputs": [
    {
     "data": {
      "image/png": "[encoded data removed]",
      "text/plain": [
       "<Figure size 576x576 with 1 Axes>"
      ]
     },
     "metadata": {
      "needs_background": "light"
     },
     "output_type": "display_data"
    }
   ],
   "source": [
    "# Plot the training images.\n",
    "sample_batch = next(iter(trainloader))\n",
    "plt.figure(figsize=(8, 8))\n",
    "plt.axis(\"off\")\n",
    "plt.title(\"Training Images\")\n",
    "plt.imshow(np.transpose(vutils.make_grid(\n",
    "    sample_batch[0].to(device)[ : 64], padding=2, normalize=True).cpu(), (1, 2, 0)))\n",
    "\n",
    "plt.show()"
   ]
  },
  {
   "cell_type": "markdown",
   "metadata": {},
   "source": [
    "## Testing loss"
   ]
  },
  {
   "cell_type": "code",
   "execution_count": 61,
   "metadata": {},
   "outputs": [],
   "source": [
    "# Plot the training images.\n",
    "def plot_generated_images(sample_batch, epoch):\n",
    "    fig, ax = plt.subplots(figsize=(8, 8))\n",
    "    ax.axis(\"off\")\n",
    "    ax.set_title(\"Generate Image for epoch {:d}\".format(epoch))\n",
    "    ax.imshow(np.transpose(vutils.make_grid(\n",
    "        sample_batch[0].to(device)[ : 64], padding=2, normalize=True).cpu(), (1, 2, 0)))    \n",
    "    plt.show()"
   ]
  },
  {
   "cell_type": "code",
   "execution_count": 66,
   "metadata": {},
   "outputs": [
    {
     "data": {
      "image/png": "[encoded data removed]",
      "text/plain": [
       "<Figure size 576x576 with 1 Axes>"
      ]
     },
     "metadata": {
      "needs_background": "light"
     },
     "output_type": "display_data"
    }
   ],
   "source": [
    "noise = ((torch.rand([batch_size, ginput_dim])*-2)+1).to(device)\n",
    "sample_batch = gmodel(noise)\n",
    "plot_generated_images(sample_batch, 1)"
   ]
  }
 ],
 "metadata": {
  "kernelspec": {
   "display_name": "pytorch",
   "language": "python",
   "name": "pytorch"
  },
  "language_info": {
   "codemirror_mode": {
    "name": "ipython",
    "version": 3
   },
   "file_extension": ".py",
   "mimetype": "text/x-python",
   "name": "python",
   "nbconvert_exporter": "python",
   "pygments_lexer": "ipython3",
   "version": "3.9.2"
  }
 },
 "nbformat": 4,
 "nbformat_minor": 4
}
